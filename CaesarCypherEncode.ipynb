{
 "cells": [
  {
   "cell_type": "code",
   "execution_count": 30,
   "metadata": {},
   "outputs": [
    {
     "name": "stdout",
     "output_type": "stream",
     "text": [
      "COMEHEREATONCE\n",
      "DPNFIFSFBUPODF\n",
      "EQOGJGTGCVQPEG\n",
      "FRPHKHUHDWRQFH\n",
      "GSQILIVIEXSRGI\n",
      "HTRJMJWJFYTSHJ\n",
      "IUSKNKXKGZUTIK\n",
      "JVTLOLYLHAVUJL\n",
      "KWUMPMZMIBWVKM\n",
      "LXVNQNANJCXWLN\n",
      "MYWOROBOKDYXMO\n",
      "NZXPSPCPLEZYNP\n",
      "OAYQTQDQMFAZOQ\n",
      "PBZRURERNGBAPR\n",
      "QCASVSFSOHCBQS\n",
      "RDBTWTGTPIDCRT\n",
      "SECUXUHUQJEDSU\n",
      "TFDVYVIVRKFETV\n",
      "UGEWZWJWSLGFUW\n",
      "VHFXAXKXTMHGVX\n",
      "WIGYBYLYUNIHWY\n",
      "XJHZCZMZVOJIXZ\n",
      "YKIADANAWPKJYA\n",
      "ZLJBEBOBXQLKZB\n",
      "AMKCFCPCYRMLAC\n",
      "BNLDGDQDZSNMBD\n"
     ]
    }
   ],
   "source": [
    "import sys\n",
    "import numpy as np\n",
    "\n",
    "string = input() #string input\n",
    "\n",
    "asci = [ord(c) for c in string]\n",
    "\n",
    "for i in range(0,25):\n",
    "    for z in range(-1, len(asci)-1):\n",
    "        asci[z]= (asci[z]+1-65)%26 + 65\n",
    "        #print(asci[z])\n",
    "    #print(asci)\n",
    "    print(''.join(chr(n) for n in asci))"
   ]
  },
  {
   "cell_type": "code",
   "execution_count": null,
   "metadata": {},
   "outputs": [],
   "source": []
  }
 ],
 "metadata": {
  "kernelspec": {
   "display_name": "Python 3",
   "language": "python",
   "name": "python3"
  },
  "language_info": {
   "codemirror_mode": {
    "name": "ipython",
    "version": 3
   },
   "file_extension": ".py",
   "mimetype": "text/x-python",
   "name": "python",
   "nbconvert_exporter": "python",
   "pygments_lexer": "ipython3",
   "version": "3.6.4"
  }
 },
 "nbformat": 4,
 "nbformat_minor": 2
}
